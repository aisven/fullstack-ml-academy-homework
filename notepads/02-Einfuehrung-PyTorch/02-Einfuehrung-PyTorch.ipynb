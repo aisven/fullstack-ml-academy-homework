{
 "cells": [
  {
   "attachments": {},
   "cell_type": "markdown",
   "metadata": {},
   "source": [
    "## PyTorch Introduction\n",
    "\n",
    "Aufgabe:\n",
    "\n",
    "* Trainieren Sie ein mehrschichtiges Neuronales Netz mit PyTorch.\n",
    "* Zeigen Sie grafisch auf, dass Ihr Modell konvergiert.\n"
   ]
  },
  {
   "attachments": {},
   "cell_type": "markdown",
   "metadata": {},
   "source": [
    "#### Import & Settings"
   ]
  },
  {
   "cell_type": "code",
   "execution_count": 134,
   "metadata": {},
   "outputs": [],
   "source": [
    "# in this code block we gather all imports\n",
    "\n",
    "# PyTorch\n",
    "import torch\n",
    "\n",
    "# numpy is just used in the beginning\n",
    "import numpy as np\n",
    "\n",
    "# MinMaxScaler for data normalization\n",
    "from sklearn.preprocessing import MinMaxScaler\n",
    "\n",
    "# for some plots and the scatter matrix\n",
    "from matplotlib import pyplot as plt\n",
    "from matplotlib import colormaps as cm\n",
    "\n",
    "# pandas for reading the CSV and for use with the library ppscore\n",
    "import pandas as pd\n",
    "from pandas.api.types import CategoricalDtype\n",
    "\n",
    "# ppscore for exploratory data analysis\n",
    "import ppscore as pps\n",
    "\n",
    "# more statistics for exploratory data analysis\n",
    "from scipy import stats\n"
   ]
  },
  {
   "cell_type": "code",
   "execution_count": 135,
   "metadata": {},
   "outputs": [
    {
     "name": "stdout",
     "output_type": "stream",
     "text": [
      "This Computation is running on cpu.\n"
     ]
    }
   ],
   "source": [
    "device = torch.device('cuda:0' if torch.cuda.is_available() else 'cpu')\n",
    "print('This Computation is running on {}.'.format(device))"
   ]
  },
  {
   "attachments": {},
   "cell_type": "markdown",
   "metadata": {},
   "source": [
    "#### Load Dataset"
   ]
  },
  {
   "cell_type": "code",
   "execution_count": 136,
   "metadata": {},
   "outputs": [
    {
     "name": "stdout",
     "output_type": "stream",
     "text": [
      "n_samples=150\n",
      "n_features=4\n"
     ]
    }
   ],
   "source": [
    "# in this code block we read the CSV file and perform some basic preprocessing\n",
    "\n",
    "# read the CSV file\n",
    "# using separator character semicolon\n",
    "dataset_known_pd = pd.read_csv(\"../../data/iris_binary.csv\", sep=',', skipinitialspace=True)\n",
    "\n",
    "# make column names pythonic\n",
    "# so that they can be used in code where applicable\n",
    "dataset_known_pd.columns = dataset_known_pd.columns.str.replace(\" \", \"_\")\n",
    "\n",
    "# on a side note we choose to sort the data frame by the first column \n",
    "dataset_known_pd.sort_values(by='sepal_length', ascending=True, axis=0, inplace=True)\n",
    "\n",
    "dataset_known_np = dataset_known_pd.to_numpy()\n",
    "\n",
    "x_known_pd = dataset_known_pd.copy().drop('class', axis=1)\n",
    "x_known_np = x_known_pd.to_numpy()\n",
    "\n",
    "n_samples = x_known_np.shape[0]\n",
    "print(f\"n_samples={n_samples}\")\n",
    "\n",
    "n_features = x_known_np.shape[1]\n",
    "print(f\"n_features={n_features}\")\n",
    "\n",
    "y_known_pd = dataset_known_pd['class'].copy()\n",
    "y_known_np = y_known_pd.to_numpy()\n",
    "\n",
    "n = dataset_known_np.shape[0]\n",
    "assert dataset_known_np.shape == (n,5)\n",
    "assert x_known_np.shape == (n,4)\n",
    "assert y_known_np.shape == (n,)\n"
   ]
  },
  {
   "cell_type": "code",
   "execution_count": 137,
   "metadata": {},
   "outputs": [
    {
     "data": {
      "text/html": [
       "<div>\n",
       "<style scoped>\n",
       "    .dataframe tbody tr th:only-of-type {\n",
       "        vertical-align: middle;\n",
       "    }\n",
       "\n",
       "    .dataframe tbody tr th {\n",
       "        vertical-align: top;\n",
       "    }\n",
       "\n",
       "    .dataframe thead th {\n",
       "        text-align: right;\n",
       "    }\n",
       "</style>\n",
       "<table border=\"1\" class=\"dataframe\">\n",
       "  <thead>\n",
       "    <tr style=\"text-align: right;\">\n",
       "      <th></th>\n",
       "      <th>sepal_length</th>\n",
       "      <th>sepal_width</th>\n",
       "      <th>petal_length</th>\n",
       "      <th>petal_width</th>\n",
       "      <th>class</th>\n",
       "    </tr>\n",
       "  </thead>\n",
       "  <tbody>\n",
       "    <tr>\n",
       "      <th>22</th>\n",
       "      <td>4.3</td>\n",
       "      <td>3.0</td>\n",
       "      <td>1.1</td>\n",
       "      <td>0.1</td>\n",
       "      <td>0</td>\n",
       "    </tr>\n",
       "    <tr>\n",
       "      <th>128</th>\n",
       "      <td>4.4</td>\n",
       "      <td>2.9</td>\n",
       "      <td>1.4</td>\n",
       "      <td>0.2</td>\n",
       "      <td>0</td>\n",
       "    </tr>\n",
       "    <tr>\n",
       "      <th>141</th>\n",
       "      <td>4.4</td>\n",
       "      <td>3.0</td>\n",
       "      <td>1.3</td>\n",
       "      <td>0.2</td>\n",
       "      <td>0</td>\n",
       "    </tr>\n",
       "    <tr>\n",
       "      <th>3</th>\n",
       "      <td>4.4</td>\n",
       "      <td>3.2</td>\n",
       "      <td>1.3</td>\n",
       "      <td>0.2</td>\n",
       "      <td>0</td>\n",
       "    </tr>\n",
       "    <tr>\n",
       "      <th>47</th>\n",
       "      <td>4.5</td>\n",
       "      <td>2.3</td>\n",
       "      <td>1.3</td>\n",
       "      <td>0.3</td>\n",
       "      <td>0</td>\n",
       "    </tr>\n",
       "    <tr>\n",
       "      <th>...</th>\n",
       "      <td>...</td>\n",
       "      <td>...</td>\n",
       "      <td>...</td>\n",
       "      <td>...</td>\n",
       "      <td>...</td>\n",
       "    </tr>\n",
       "    <tr>\n",
       "      <th>119</th>\n",
       "      <td>7.7</td>\n",
       "      <td>3.0</td>\n",
       "      <td>6.1</td>\n",
       "      <td>2.3</td>\n",
       "      <td>1</td>\n",
       "    </tr>\n",
       "    <tr>\n",
       "      <th>13</th>\n",
       "      <td>7.7</td>\n",
       "      <td>3.8</td>\n",
       "      <td>6.7</td>\n",
       "      <td>2.2</td>\n",
       "      <td>1</td>\n",
       "    </tr>\n",
       "    <tr>\n",
       "      <th>44</th>\n",
       "      <td>7.7</td>\n",
       "      <td>2.6</td>\n",
       "      <td>6.9</td>\n",
       "      <td>2.3</td>\n",
       "      <td>1</td>\n",
       "    </tr>\n",
       "    <tr>\n",
       "      <th>56</th>\n",
       "      <td>7.7</td>\n",
       "      <td>2.8</td>\n",
       "      <td>6.7</td>\n",
       "      <td>2.0</td>\n",
       "      <td>1</td>\n",
       "    </tr>\n",
       "    <tr>\n",
       "      <th>109</th>\n",
       "      <td>7.9</td>\n",
       "      <td>3.8</td>\n",
       "      <td>6.4</td>\n",
       "      <td>2.0</td>\n",
       "      <td>1</td>\n",
       "    </tr>\n",
       "  </tbody>\n",
       "</table>\n",
       "<p>150 rows × 5 columns</p>\n",
       "</div>"
      ],
      "text/plain": [
       "     sepal_length  sepal_width  petal_length  petal_width  class\n",
       "22            4.3          3.0           1.1          0.1      0\n",
       "128           4.4          2.9           1.4          0.2      0\n",
       "141           4.4          3.0           1.3          0.2      0\n",
       "3             4.4          3.2           1.3          0.2      0\n",
       "47            4.5          2.3           1.3          0.3      0\n",
       "..            ...          ...           ...          ...    ...\n",
       "119           7.7          3.0           6.1          2.3      1\n",
       "13            7.7          3.8           6.7          2.2      1\n",
       "44            7.7          2.6           6.9          2.3      1\n",
       "56            7.7          2.8           6.7          2.0      1\n",
       "109           7.9          3.8           6.4          2.0      1\n",
       "\n",
       "[150 rows x 5 columns]"
      ]
     },
     "execution_count": 137,
     "metadata": {},
     "output_type": "execute_result"
    }
   ],
   "source": [
    "dataset_known_pd"
   ]
  },
  {
   "cell_type": "code",
   "execution_count": 138,
   "metadata": {},
   "outputs": [],
   "source": [
    "# in this code block we copy the dataset over to PyTorch\n",
    "\n",
    "dataset_known = torch.from_numpy(dataset_known_np)\n",
    "#print(dataset_known)"
   ]
  },
  {
   "cell_type": "code",
   "execution_count": 139,
   "metadata": {},
   "outputs": [
    {
     "data": {
      "text/plain": [
       "tensor([0.3586, 0.5919, 0.9237, 0.9286], requires_grad=True)"
      ]
     },
     "execution_count": 139,
     "metadata": {},
     "output_type": "execute_result"
    }
   ],
   "source": [
    "# in this code block we initialize the model and the weights\n",
    "\n",
    "w = torch.rand(n_features,requires_grad=True)\n",
    "w"
   ]
  },
  {
   "cell_type": "code",
   "execution_count": 140,
   "metadata": {},
   "outputs": [],
   "source": [
    "# in this code block we split the dataset randomly into train and test data\n",
    "dataset_known_subsets = torch.utils.data.random_split(dataset_known, [int(n_samples * 0.7), int(n_samples * 0.3)])\n",
    "\n",
    "dataset_known_train_subset = dataset_known_subsets[0]\n",
    "dataset_known_test_subset = dataset_known_subsets[1]\n",
    "\n",
    "assert len(dataset_known_train_subset) == 105\n",
    "assert len(dataset_known_test_subset) == 45\n"
   ]
  }
 ],
 "metadata": {
  "kernelspec": {
   "display_name": ".venv",
   "language": "python",
   "name": "python3"
  },
  "language_info": {
   "codemirror_mode": {
    "name": "ipython",
    "version": 3
   },
   "file_extension": ".py",
   "mimetype": "text/x-python",
   "name": "python",
   "nbconvert_exporter": "python",
   "pygments_lexer": "ipython3",
   "version": "3.9.16"
  },
  "orig_nbformat": 4,
  "vscode": {
   "interpreter": {
    "hash": "ad23019639f4f0cec1969a685ba2a43be98d322ffbcf7e3409a6239a86c6a8ef"
   }
  }
 },
 "nbformat": 4,
 "nbformat_minor": 2
}
