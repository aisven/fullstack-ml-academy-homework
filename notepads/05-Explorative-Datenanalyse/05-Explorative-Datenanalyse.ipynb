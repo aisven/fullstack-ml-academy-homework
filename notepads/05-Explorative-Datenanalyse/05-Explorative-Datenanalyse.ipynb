{
 "cells": [
  {
   "cell_type": "code",
   "execution_count": 19,
   "metadata": {},
   "outputs": [
    {
     "data": {
      "text/plain": [
       "'/Users/sven/gh/fullstack-ml-academy-homework/notepads/05-Explorative-Datenanalyse'"
      ]
     },
     "execution_count": 19,
     "metadata": {},
     "output_type": "execute_result"
    }
   ],
   "source": [
    "%pwd"
   ]
  },
  {
   "attachments": {},
   "cell_type": "markdown",
   "metadata": {},
   "source": [
    "## Lageparameter\n",
    "- Arithmetisches Mittel / Durchschnitt / average\n",
    "- Getrimmtes Mittel / truncated mean\n",
    "- Gewichtetes Mittel aka. weighted arithmetic mean\n",
    "- Median\n",
    "\n",
    "## Streuungsmaße\n",
    "- Spannweite aka. range\n",
    "- Mittlere Absolute Abweichung aka. mean absolute deviation\n",
    "- Varianz aka. variance\n",
    "- Standardabweichung aka. standard deviation\n",
    "- Quantil, Perzentil, Quartil\n",
    "- Interquartilsabstand / Spannweite vom Perzentil 25 zum Perzentil 75 / interquartil range\n",
    "- Variationskoeffizient\n",
    "- Empirischer Quartilsdispersionskoeffizient\n",
    "\n",
    "## Verteilungen\n",
    "- Dichtefunktion / density function \n"
   ]
  },
  {
   "cell_type": "code",
   "execution_count": 20,
   "metadata": {},
   "outputs": [],
   "source": [
    "import pandas as pd\n",
    "import numpy as np\n",
    "from scipy import stats"
   ]
  },
  {
   "cell_type": "code",
   "execution_count": 21,
   "metadata": {},
   "outputs": [
    {
     "name": "stdout",
     "output_type": "stream",
     "text": [
      "<class 'pandas.core.frame.DataFrame'>\n",
      "RangeIndex: 32561 entries, 0 to 32560\n",
      "Data columns (total 15 columns):\n",
      " #   Column          Non-Null Count  Dtype \n",
      "---  ------          --------------  ----- \n",
      " 0   age             32561 non-null  int64 \n",
      " 1   workclass       32561 non-null  object\n",
      " 2   fnlwgt          32561 non-null  int64 \n",
      " 3   education       32561 non-null  object\n",
      " 4   education-num   32561 non-null  int64 \n",
      " 5   marital-status  32561 non-null  object\n",
      " 6   occupation      32561 non-null  object\n",
      " 7   relationship    32561 non-null  object\n",
      " 8   race            32561 non-null  object\n",
      " 9   sex             32561 non-null  object\n",
      " 10  capital-gain    32561 non-null  int64 \n",
      " 11  capital-loss    32561 non-null  int64 \n",
      " 12  hours-per-week  32561 non-null  int64 \n",
      " 13  native-country  32561 non-null  object\n",
      " 14  income          32561 non-null  object\n",
      "dtypes: int64(6), object(9)\n",
      "memory usage: 3.7+ MB\n"
     ]
    }
   ],
   "source": [
    "pd.options.display.float_format = '{:.0f}'.format\n",
    "data_all = pd.read_csv(\"../../data/Census-Datensatz.csv\", sep=';', skipinitialspace=True)\n",
    "data_all.info()"
   ]
  },
  {
   "cell_type": "code",
   "execution_count": 22,
   "metadata": {},
   "outputs": [
    {
     "name": "stdout",
     "output_type": "stream",
     "text": [
      "data_all.description=        age  fnlwgt  education-num  capital-gain  capital-loss  hours-per-week\n",
      "count 32561   32561          32561         32561         32561           32561\n",
      "mean     39  189778             10          1078            87              40\n",
      "std      14  105550              3          7385           403              12\n",
      "min      17   12285              1             0             0               1\n",
      "25%      28  117827              9             0             0              40\n",
      "50%      37  178356             10             0             0              40\n",
      "75%      48  237051             12             0             0              45\n",
      "max      90 1484705             16         99999          4356              99\n",
      "\n"
     ]
    }
   ],
   "source": [
    "description = data_all.describe()\n",
    "print(f\"data_all.description={description}\\n\")"
   ]
  },
  {
   "cell_type": "code",
   "execution_count": 23,
   "metadata": {},
   "outputs": [
    {
     "name": "stdout",
     "output_type": "stream",
     "text": [
      "data_all.head=   age         workclass  fnlwgt  education  education-num  \\\n",
      "0   39         State-gov   77516  Bachelors             13   \n",
      "1   50  Self-emp-not-inc   83311  Bachelors             13   \n",
      "2   38           Private  215646    HS-grad              9   \n",
      "3   53           Private  234721       11th              7   \n",
      "4   28           Private  338409  Bachelors             13   \n",
      "\n",
      "       marital-status         occupation   relationship   race     sex  \\\n",
      "0       Never-married       Adm-clerical  Not-in-family  White    Male   \n",
      "1  Married-civ-spouse    Exec-managerial        Husband  White    Male   \n",
      "2            Divorced  Handlers-cleaners  Not-in-family  White    Male   \n",
      "3  Married-civ-spouse  Handlers-cleaners        Husband  Black    Male   \n",
      "4  Married-civ-spouse     Prof-specialty           Wife  Black  Female   \n",
      "\n",
      "   capital-gain  capital-loss  hours-per-week native-country income  \n",
      "0          2174             0              40  United-States  <=50K  \n",
      "1             0             0              13  United-States  <=50K  \n",
      "2             0             0              40  United-States  <=50K  \n",
      "3             0             0              40  United-States  <=50K  \n",
      "4             0             0              40           Cuba  <=50K  \n",
      "\n"
     ]
    }
   ],
   "source": [
    "print(f\"data_all.head={data_all.head()}\\n\")"
   ]
  },
  {
   "cell_type": "code",
   "execution_count": 24,
   "metadata": {},
   "outputs": [
    {
     "name": "stdout",
     "output_type": "stream",
     "text": [
      "        age  fnlwgt  capital-gain  capital-loss  hours-per-week  income-cat\n",
      "count 32561   32561         32561         32561           32561       32561\n",
      "mean     39  189778          1078            87              40           0\n",
      "std      14  105550          7385           403              12           0\n",
      "min      17   12285             0             0               1           0\n",
      "5%       19   39460             0             0              18           0\n",
      "10%      22   65716             0             0              24           0\n",
      "25%      28  117827             0             0              40           0\n",
      "50%      37  178356             0             0              40           0\n",
      "75%      48  237051             0             0              45           0\n",
      "90%      58  329054             0             0              55           1\n",
      "95%      63  379682          5013             0              60           1\n",
      "96%      65  397685          7298          1590              60           1\n",
      "97%      67  416890          7688          1848              65           1\n",
      "98%      69  448337         14084          1902              70           1\n",
      "99%      74  510072         15024          1980              80           1\n",
      "max      90 1484705         99999          4356              99           1\n"
     ]
    },
    {
     "name": "stderr",
     "output_type": "stream",
     "text": [
      "/var/folders/h2/lkcg_8md1x38x9b_fv91s7pw0000gn/T/ipykernel_3207/1305629387.py:8: SettingWithCopyWarning: \n",
      "A value is trying to be set on a copy of a slice from a DataFrame.\n",
      "Try using .loc[row_indexer,col_indexer] = value instead\n",
      "\n",
      "See the caveats in the documentation: https://pandas.pydata.org/pandas-docs/stable/user_guide/indexing.html#returning-a-view-versus-a-copy\n",
      "  data['income-cat'] = income_data_codes\n"
     ]
    },
    {
     "data": {
      "text/plain": [
       "<bound method NDFrame.head of        age  fnlwgt  capital-gain  capital-loss  hours-per-week  income-cat\n",
       "16280   27  187981             0             0              40           0\n",
       "19989   42   68729             0             0              40           0\n",
       "19988   38  299036             0             0              55           1\n",
       "19987   45  187581             0             0              40           0\n",
       "19986   19  385901             0             0              22           0\n",
       "...    ...     ...           ...           ...             ...         ...\n",
       "15100   62  245491         99999             0              40           1\n",
       "10661   59  122283         99999             0              40           1\n",
       "2103    43  172826         99999             0              55           1\n",
       "25178   45  148995         99999             0              30           1\n",
       "6524    49  362795         99999             0              80           1\n",
       "\n",
       "[32561 rows x 6 columns]>"
      ]
     },
     "execution_count": 24,
     "metadata": {},
     "output_type": "execute_result"
    }
   ],
   "source": [
    "# retain only the numeric columns\n",
    "numeric_or_ordinal_columns = ['age', 'fnlwgt', 'capital-gain', 'capital-loss', 'hours-per-week']\n",
    "data = data_all[numeric_or_ordinal_columns]\n",
    "# add column income_cat\n",
    "income_column = ['income']\n",
    "income_data = data_all[income_column]\n",
    "income_data_codes = income_data.income.astype('category').cat.codes\n",
    "data['income-cat'] = income_data_codes\n",
    "# sort by age\n",
    "data_sorted = data.sort_values(by='capital-gain', ascending=True)\n",
    "# ensure datatype int32\n",
    "data_int = data_sorted.astype('int32')\n",
    "# data_int.describe(percentiles=[.05, .10, .25, .5, .75, .90, .95, .96, .97, .98, .99]).apply('{:.0f}'.format)\n",
    "# raises error with message unsupported format string passed to Series.__format__\n",
    "# so instead we use pd.options.display.float_format = '{:.0f}'.format right after importing pandas\n",
    "print(data_int.describe(percentiles=[.05, .10, .25, .5, .75, .90, .95, .96, .97, .98, .99]))\n",
    "data_int.head"
   ]
  },
  {
   "cell_type": "code",
   "execution_count": 25,
   "metadata": {},
   "outputs": [
    {
     "name": "stdout",
     "output_type": "stream",
     "text": [
      "age                  37\n",
      "fnlwgt           178356\n",
      "capital-gain          0\n",
      "capital-loss          0\n",
      "hours-per-week       40\n",
      "income-cat            0\n",
      "dtype: float64\n"
     ]
    }
   ],
   "source": [
    "print(data_int.median(numeric_only=True))"
   ]
  },
  {
   "cell_type": "code",
   "execution_count": 26,
   "metadata": {},
   "outputs": [
    {
     "name": "stdout",
     "output_type": "stream",
     "text": [
      "age                  39\n",
      "fnlwgt           189778\n",
      "capital-gain       1078\n",
      "capital-loss         87\n",
      "hours-per-week       40\n",
      "income-cat            0\n",
      "dtype: float64\n"
     ]
    }
   ],
   "source": [
    "print(data_int.mean(numeric_only=True))"
   ]
  },
  {
   "cell_type": "code",
   "execution_count": 27,
   "metadata": {},
   "outputs": [
    {
     "name": "stdout",
     "output_type": "stream",
     "text": [
      "   age  fnlwgt  capital-gain  capital-loss  hours-per-week  income-cat\n",
      "0   36  123011             0             0              40           0\n",
      "1  NaN  164190           NaN           NaN             NaN         NaN\n",
      "2  NaN  203488           NaN           NaN             NaN         NaN\n"
     ]
    }
   ],
   "source": [
    "print(data_int.mode(numeric_only=True, dropna=True))"
   ]
  }
 ],
 "metadata": {
  "kernelspec": {
   "display_name": ".venv",
   "language": "python",
   "name": "python3"
  },
  "language_info": {
   "codemirror_mode": {
    "name": "ipython",
    "version": 3
   },
   "file_extension": ".py",
   "mimetype": "text/x-python",
   "name": "python",
   "nbconvert_exporter": "python",
   "pygments_lexer": "ipython3",
   "version": "3.9.16"
  },
  "orig_nbformat": 4,
  "vscode": {
   "interpreter": {
    "hash": "ad23019639f4f0cec1969a685ba2a43be98d322ffbcf7e3409a6239a86c6a8ef"
   }
  }
 },
 "nbformat": 4,
 "nbformat_minor": 2
}
